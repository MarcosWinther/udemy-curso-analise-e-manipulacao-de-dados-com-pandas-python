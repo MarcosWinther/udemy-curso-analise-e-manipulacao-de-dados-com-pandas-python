{
 "cells": [
  {
   "cell_type": "markdown",
   "id": "4a735b27-952d-4320-a48b-597ececea25d",
   "metadata": {},
   "source": [
    "# 📚 Manipulando Dados Gigantes - Parte 2\n",
    "\n",
    "> __OBSERVAÇÃO:__ é necessário baixar o arquivo compactado no site do **INEP** e descompactá-lo dentro da pasta 'dataset_ENEM_2023', pois os arquivos necessários para este módulo estão nesse dataset do **INEP**.\n",
    "\n",
    "- **Dataset:** [ENEM 2023](https://www.gov.br/inep/pt-br/acesso-a-informacao/dados-abertos/microdados/enem)"
   ]
  },
  {
   "cell_type": "code",
   "execution_count": 1,
   "id": "6eef153f-d076-47b6-8972-a6b9aafe59d7",
   "metadata": {},
   "outputs": [],
   "source": [
    "import pandas as pd"
   ]
  },
  {
   "cell_type": "code",
   "execution_count": 2,
   "id": "104b70c0-6dd4-41f4-8369-63d5cf630260",
   "metadata": {},
   "outputs": [],
   "source": [
    "df = pd.read_csv('dataset_ENEM_2023/DADOS/MICRODADOS_ENEM_2023.csv', encoding='ISO-8859-1', sep=';', nrows= 10000)"
   ]
  },
  {
   "cell_type": "code",
   "execution_count": 3,
   "id": "8a1b48a7-b73e-426f-95c1-7a68b3e5604e",
   "metadata": {},
   "outputs": [
    {
     "name": "stdout",
     "output_type": "stream",
     "text": [
      "<class 'pandas.core.frame.DataFrame'>\n",
      "RangeIndex: 10000 entries, 0 to 9999\n",
      "Data columns (total 76 columns):\n",
      " #   Column                  Non-Null Count  Dtype  \n",
      "---  ------                  --------------  -----  \n",
      " 0   NU_INSCRICAO            10000 non-null  int64  \n",
      " 1   NU_ANO                  10000 non-null  int64  \n",
      " 2   TP_FAIXA_ETARIA         10000 non-null  int64  \n",
      " 3   TP_SEXO                 10000 non-null  object \n",
      " 4   TP_ESTADO_CIVIL         10000 non-null  int64  \n",
      " 5   TP_COR_RACA             10000 non-null  int64  \n",
      " 6   TP_NACIONALIDADE        10000 non-null  int64  \n",
      " 7   TP_ST_CONCLUSAO         10000 non-null  int64  \n",
      " 8   TP_ANO_CONCLUIU         10000 non-null  int64  \n",
      " 9   TP_ESCOLA               10000 non-null  int64  \n",
      " 10  TP_ENSINO               3055 non-null   float64\n",
      " 11  IN_TREINEIRO            10000 non-null  int64  \n",
      " 12  CO_MUNICIPIO_ESC        1657 non-null   float64\n",
      " 13  NO_MUNICIPIO_ESC        1657 non-null   object \n",
      " 14  CO_UF_ESC               1657 non-null   float64\n",
      " 15  SG_UF_ESC               1657 non-null   object \n",
      " 16  TP_DEPENDENCIA_ADM_ESC  1657 non-null   float64\n",
      " 17  TP_LOCALIZACAO_ESC      1657 non-null   float64\n",
      " 18  TP_SIT_FUNC_ESC         1657 non-null   float64\n",
      " 19  CO_MUNICIPIO_PROVA      10000 non-null  int64  \n",
      " 20  NO_MUNICIPIO_PROVA      10000 non-null  object \n",
      " 21  CO_UF_PROVA             10000 non-null  int64  \n",
      " 22  SG_UF_PROVA             10000 non-null  object \n",
      " 23  TP_PRESENCA_CN          10000 non-null  int64  \n",
      " 24  TP_PRESENCA_CH          10000 non-null  int64  \n",
      " 25  TP_PRESENCA_LC          10000 non-null  int64  \n",
      " 26  TP_PRESENCA_MT          10000 non-null  int64  \n",
      " 27  CO_PROVA_CN             7281 non-null   float64\n",
      " 28  CO_PROVA_CH             7562 non-null   float64\n",
      " 29  CO_PROVA_LC             7562 non-null   float64\n",
      " 30  CO_PROVA_MT             7281 non-null   float64\n",
      " 31  NU_NOTA_CN              7281 non-null   float64\n",
      " 32  NU_NOTA_CH              7562 non-null   float64\n",
      " 33  NU_NOTA_LC              7562 non-null   float64\n",
      " 34  NU_NOTA_MT              7281 non-null   float64\n",
      " 35  TX_RESPOSTAS_CN         7281 non-null   object \n",
      " 36  TX_RESPOSTAS_CH         7562 non-null   object \n",
      " 37  TX_RESPOSTAS_LC         7562 non-null   object \n",
      " 38  TX_RESPOSTAS_MT         7281 non-null   object \n",
      " 39  TP_LINGUA               10000 non-null  int64  \n",
      " 40  TX_GABARITO_CN          7281 non-null   object \n",
      " 41  TX_GABARITO_CH          7562 non-null   object \n",
      " 42  TX_GABARITO_LC          7562 non-null   object \n",
      " 43  TX_GABARITO_MT          7281 non-null   object \n",
      " 44  TP_STATUS_REDACAO       7562 non-null   float64\n",
      " 45  NU_NOTA_COMP1           7562 non-null   float64\n",
      " 46  NU_NOTA_COMP2           7562 non-null   float64\n",
      " 47  NU_NOTA_COMP3           7562 non-null   float64\n",
      " 48  NU_NOTA_COMP4           7562 non-null   float64\n",
      " 49  NU_NOTA_COMP5           7562 non-null   float64\n",
      " 50  NU_NOTA_REDACAO         7562 non-null   float64\n",
      " 51  Q001                    10000 non-null  object \n",
      " 52  Q002                    10000 non-null  object \n",
      " 53  Q003                    10000 non-null  object \n",
      " 54  Q004                    10000 non-null  object \n",
      " 55  Q005                    10000 non-null  int64  \n",
      " 56  Q006                    10000 non-null  object \n",
      " 57  Q007                    10000 non-null  object \n",
      " 58  Q008                    10000 non-null  object \n",
      " 59  Q009                    10000 non-null  object \n",
      " 60  Q010                    10000 non-null  object \n",
      " 61  Q011                    10000 non-null  object \n",
      " 62  Q012                    10000 non-null  object \n",
      " 63  Q013                    10000 non-null  object \n",
      " 64  Q014                    10000 non-null  object \n",
      " 65  Q015                    10000 non-null  object \n",
      " 66  Q016                    10000 non-null  object \n",
      " 67  Q017                    10000 non-null  object \n",
      " 68  Q018                    10000 non-null  object \n",
      " 69  Q019                    10000 non-null  object \n",
      " 70  Q020                    10000 non-null  object \n",
      " 71  Q021                    10000 non-null  object \n",
      " 72  Q022                    10000 non-null  object \n",
      " 73  Q023                    10000 non-null  object \n",
      " 74  Q024                    10000 non-null  object \n",
      " 75  Q025                    10000 non-null  object \n",
      "dtypes: float64(21), int64(18), object(37)\n",
      "memory usage: 5.8+ MB\n"
     ]
    }
   ],
   "source": [
    "df.info()"
   ]
  },
  {
   "cell_type": "code",
   "execution_count": 4,
   "id": "787d0645-734a-42b1-8431-60c03e777f7f",
   "metadata": {},
   "outputs": [],
   "source": [
    "# Criando um novo arquivo csv com nossos dados reduzidos\n",
    "df.to_csv('dataset_ENEM_2023/DADOS/MICRODADOS_ENEM_2023_REDUZIDO.csv', index= False)"
   ]
  },
  {
   "cell_type": "code",
   "execution_count": 5,
   "id": "8bae04d4-7488-47c2-87bd-3f204bdd2005",
   "metadata": {},
   "outputs": [],
   "source": [
    "# Trabalhando com o arquivo reduzido e utilizando o método chunksize\n",
    "dfc = pd.read_csv('dataset_ENEM_2023/DADOS/MICRODADOS_ENEM_2023_REDUZIDO.csv', encoding='ISO-8859-1', sep=';', chunksize=2500)"
   ]
  },
  {
   "cell_type": "code",
   "execution_count": 6,
   "id": "de04aea6-0d68-4353-a4fe-b19ee38a310c",
   "metadata": {},
   "outputs": [
    {
     "name": "stdout",
     "output_type": "stream",
     "text": [
      "2500\n",
      "2500\n",
      "2500\n",
      "2500\n"
     ]
    }
   ],
   "source": [
    "for i in dfc:\n",
    "    print(len(i))"
   ]
  }
 ],
 "metadata": {
  "kernelspec": {
   "display_name": "Python 3 (ipykernel)",
   "language": "python",
   "name": "python3"
  },
  "language_info": {
   "codemirror_mode": {
    "name": "ipython",
    "version": 3
   },
   "file_extension": ".py",
   "mimetype": "text/x-python",
   "name": "python",
   "nbconvert_exporter": "python",
   "pygments_lexer": "ipython3",
   "version": "3.12.7"
  }
 },
 "nbformat": 4,
 "nbformat_minor": 5
}
