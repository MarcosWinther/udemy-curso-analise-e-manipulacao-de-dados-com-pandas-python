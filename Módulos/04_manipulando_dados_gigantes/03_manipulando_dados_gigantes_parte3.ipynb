{
 "cells": [
  {
   "cell_type": "markdown",
   "id": "ad2a6b94-c702-4e3e-91a9-c6673614a466",
   "metadata": {},
   "source": [
    "# 📚 Manipulando Dados Gigantes - Parte 3\n",
    "\n",
    "> __OBSERVAÇÃO:__ é necessário baixar o arquivo compactado no site do **INEP** e descompactá-lo dentro da pasta 'dataset_ENEM_2023', pois os arquivos necessários para este módulo estão nesse dataset do **INEP**.\n",
    "\n",
    "- **Dataset:** [ENEM 2023](https://www.gov.br/inep/pt-br/acesso-a-informacao/dados-abertos/microdados/enem)"
   ]
  },
  {
   "cell_type": "code",
   "execution_count": 1,
   "id": "ce156187-0614-4ec1-80ae-43dced31121e",
   "metadata": {},
   "outputs": [],
   "source": [
    "import pandas as pd"
   ]
  },
  {
   "cell_type": "code",
   "execution_count": 2,
   "id": "d1ca4b89-fd92-4b96-8ca4-4c2efcba25b1",
   "metadata": {},
   "outputs": [],
   "source": [
    "df = pd.read_csv('dataset_ENEM_2023/DADOS/MICRODADOS_ENEM_2023_REDUZIDO.csv', encoding='ISO-8859-1')"
   ]
  },
  {
   "cell_type": "code",
   "execution_count": 3,
   "id": "c11c1409-800e-40c6-8c5c-1c492998d146",
   "metadata": {},
   "outputs": [
    {
     "data": {
      "text/html": [
       "<div>\n",
       "<style scoped>\n",
       "    .dataframe tbody tr th:only-of-type {\n",
       "        vertical-align: middle;\n",
       "    }\n",
       "\n",
       "    .dataframe tbody tr th {\n",
       "        vertical-align: top;\n",
       "    }\n",
       "\n",
       "    .dataframe thead th {\n",
       "        text-align: right;\n",
       "    }\n",
       "</style>\n",
       "<table border=\"1\" class=\"dataframe\">\n",
       "  <thead>\n",
       "    <tr style=\"text-align: right;\">\n",
       "      <th></th>\n",
       "      <th>NU_INSCRICAO</th>\n",
       "      <th>NU_ANO</th>\n",
       "      <th>TP_FAIXA_ETARIA</th>\n",
       "      <th>TP_SEXO</th>\n",
       "      <th>TP_ESTADO_CIVIL</th>\n",
       "      <th>TP_COR_RACA</th>\n",
       "      <th>TP_NACIONALIDADE</th>\n",
       "      <th>TP_ST_CONCLUSAO</th>\n",
       "      <th>TP_ANO_CONCLUIU</th>\n",
       "      <th>TP_ESCOLA</th>\n",
       "      <th>...</th>\n",
       "      <th>Q016</th>\n",
       "      <th>Q017</th>\n",
       "      <th>Q018</th>\n",
       "      <th>Q019</th>\n",
       "      <th>Q020</th>\n",
       "      <th>Q021</th>\n",
       "      <th>Q022</th>\n",
       "      <th>Q023</th>\n",
       "      <th>Q024</th>\n",
       "      <th>Q025</th>\n",
       "    </tr>\n",
       "  </thead>\n",
       "  <tbody>\n",
       "    <tr>\n",
       "      <th>0</th>\n",
       "      <td>210059085136</td>\n",
       "      <td>2023</td>\n",
       "      <td>14</td>\n",
       "      <td>M</td>\n",
       "      <td>2</td>\n",
       "      <td>1</td>\n",
       "      <td>1</td>\n",
       "      <td>1</td>\n",
       "      <td>17</td>\n",
       "      <td>1</td>\n",
       "      <td>...</td>\n",
       "      <td>C</td>\n",
       "      <td>C</td>\n",
       "      <td>B</td>\n",
       "      <td>B</td>\n",
       "      <td>A</td>\n",
       "      <td>B</td>\n",
       "      <td>B</td>\n",
       "      <td>A</td>\n",
       "      <td>A</td>\n",
       "      <td>B</td>\n",
       "    </tr>\n",
       "    <tr>\n",
       "      <th>1</th>\n",
       "      <td>210059527735</td>\n",
       "      <td>2023</td>\n",
       "      <td>12</td>\n",
       "      <td>M</td>\n",
       "      <td>2</td>\n",
       "      <td>1</td>\n",
       "      <td>0</td>\n",
       "      <td>1</td>\n",
       "      <td>16</td>\n",
       "      <td>1</td>\n",
       "      <td>...</td>\n",
       "      <td>B</td>\n",
       "      <td>A</td>\n",
       "      <td>B</td>\n",
       "      <td>B</td>\n",
       "      <td>A</td>\n",
       "      <td>A</td>\n",
       "      <td>C</td>\n",
       "      <td>A</td>\n",
       "      <td>D</td>\n",
       "      <td>B</td>\n",
       "    </tr>\n",
       "    <tr>\n",
       "      <th>2</th>\n",
       "      <td>210061103945</td>\n",
       "      <td>2023</td>\n",
       "      <td>6</td>\n",
       "      <td>F</td>\n",
       "      <td>1</td>\n",
       "      <td>1</td>\n",
       "      <td>1</td>\n",
       "      <td>1</td>\n",
       "      <td>0</td>\n",
       "      <td>1</td>\n",
       "      <td>...</td>\n",
       "      <td>B</td>\n",
       "      <td>A</td>\n",
       "      <td>A</td>\n",
       "      <td>B</td>\n",
       "      <td>A</td>\n",
       "      <td>A</td>\n",
       "      <td>A</td>\n",
       "      <td>A</td>\n",
       "      <td>A</td>\n",
       "      <td>B</td>\n",
       "    </tr>\n",
       "    <tr>\n",
       "      <th>3</th>\n",
       "      <td>210060214087</td>\n",
       "      <td>2023</td>\n",
       "      <td>2</td>\n",
       "      <td>F</td>\n",
       "      <td>1</td>\n",
       "      <td>3</td>\n",
       "      <td>1</td>\n",
       "      <td>2</td>\n",
       "      <td>0</td>\n",
       "      <td>2</td>\n",
       "      <td>...</td>\n",
       "      <td>A</td>\n",
       "      <td>A</td>\n",
       "      <td>A</td>\n",
       "      <td>B</td>\n",
       "      <td>A</td>\n",
       "      <td>A</td>\n",
       "      <td>D</td>\n",
       "      <td>A</td>\n",
       "      <td>A</td>\n",
       "      <td>B</td>\n",
       "    </tr>\n",
       "    <tr>\n",
       "      <th>4</th>\n",
       "      <td>210059980948</td>\n",
       "      <td>2023</td>\n",
       "      <td>3</td>\n",
       "      <td>F</td>\n",
       "      <td>1</td>\n",
       "      <td>3</td>\n",
       "      <td>1</td>\n",
       "      <td>2</td>\n",
       "      <td>0</td>\n",
       "      <td>2</td>\n",
       "      <td>...</td>\n",
       "      <td>A</td>\n",
       "      <td>A</td>\n",
       "      <td>A</td>\n",
       "      <td>B</td>\n",
       "      <td>A</td>\n",
       "      <td>A</td>\n",
       "      <td>B</td>\n",
       "      <td>A</td>\n",
       "      <td>A</td>\n",
       "      <td>A</td>\n",
       "    </tr>\n",
       "  </tbody>\n",
       "</table>\n",
       "<p>5 rows × 76 columns</p>\n",
       "</div>"
      ],
      "text/plain": [
       "   NU_INSCRICAO  NU_ANO  TP_FAIXA_ETARIA TP_SEXO  TP_ESTADO_CIVIL  \\\n",
       "0  210059085136    2023               14       M                2   \n",
       "1  210059527735    2023               12       M                2   \n",
       "2  210061103945    2023                6       F                1   \n",
       "3  210060214087    2023                2       F                1   \n",
       "4  210059980948    2023                3       F                1   \n",
       "\n",
       "   TP_COR_RACA  TP_NACIONALIDADE  TP_ST_CONCLUSAO  TP_ANO_CONCLUIU  TP_ESCOLA  \\\n",
       "0            1                 1                1               17          1   \n",
       "1            1                 0                1               16          1   \n",
       "2            1                 1                1                0          1   \n",
       "3            3                 1                2                0          2   \n",
       "4            3                 1                2                0          2   \n",
       "\n",
       "   ...  Q016  Q017  Q018 Q019  Q020 Q021  Q022  Q023  Q024  Q025  \n",
       "0  ...     C     C     B    B     A    B     B     A     A     B  \n",
       "1  ...     B     A     B    B     A    A     C     A     D     B  \n",
       "2  ...     B     A     A    B     A    A     A     A     A     B  \n",
       "3  ...     A     A     A    B     A    A     D     A     A     B  \n",
       "4  ...     A     A     A    B     A    A     B     A     A     A  \n",
       "\n",
       "[5 rows x 76 columns]"
      ]
     },
     "execution_count": 3,
     "metadata": {},
     "output_type": "execute_result"
    }
   ],
   "source": [
    "df.head()"
   ]
  },
  {
   "cell_type": "code",
   "execution_count": 4,
   "id": "826fe77f-5f80-456b-974d-bd3dba7e3d76",
   "metadata": {},
   "outputs": [],
   "source": [
    "dfc = pd.read_csv('dataset_ENEM_2023/DADOS/MICRODADOS_ENEM_2023_REDUZIDO.csv', encoding='ISO-8859-1', chunksize=2500)"
   ]
  },
  {
   "cell_type": "code",
   "execution_count": 5,
   "id": "37c256a9-2a1f-4fc0-a918-42b632ec1c82",
   "metadata": {},
   "outputs": [
    {
     "name": "stdout",
     "output_type": "stream",
     "text": [
      "2500\n",
      "2500\n",
      "2500\n",
      "2500\n"
     ]
    }
   ],
   "source": [
    "for i in dfc:\n",
    "    print(len(i))"
   ]
  },
  {
   "cell_type": "code",
   "execution_count": 6,
   "id": "4b5cc889-9ee8-43c8-859f-852a2d563cdf",
   "metadata": {},
   "outputs": [
    {
     "data": {
      "text/plain": [
       "dtype('int64')"
      ]
     },
     "execution_count": 6,
     "metadata": {},
     "output_type": "execute_result"
    }
   ],
   "source": [
    "# dtype -> verifica o tipo da coluna do nosso dataframe\n",
    "df['NU_ANO'].dtype"
   ]
  },
  {
   "cell_type": "code",
   "execution_count": 7,
   "id": "547ae22d-dc44-41c2-9483-0c7175a66877",
   "metadata": {},
   "outputs": [],
   "source": [
    "# O chunksize é descartado da memória depois que foi utilizado por um processo\n",
    "# Por isso estamos atribuindo a variável dfc com o processo do parâmetro chunksize\n",
    "dfc = pd.read_csv('dataset_ENEM_2023/DADOS/MICRODADOS_ENEM_2023_REDUZIDO.csv', encoding='ISO-8859-1', chunksize=2500)"
   ]
  },
  {
   "cell_type": "code",
   "execution_count": 8,
   "id": "9cdea0e3-31c6-4138-89a0-fab4b98cbffb",
   "metadata": {},
   "outputs": [],
   "source": [
    "temp = []\n",
    "\n",
    "for i in dfc:\n",
    "    temp.append(i['NU_ANO'] + 1)"
   ]
  },
  {
   "cell_type": "code",
   "execution_count": 9,
   "id": "e7c69ae8-a2fb-4d73-a6d4-f1b9581abba9",
   "metadata": {},
   "outputs": [
    {
     "data": {
      "text/plain": [
       "[0       2024\n",
       " 1       2024\n",
       " 2       2024\n",
       " 3       2024\n",
       " 4       2024\n",
       "         ... \n",
       " 2495    2024\n",
       " 2496    2024\n",
       " 2497    2024\n",
       " 2498    2024\n",
       " 2499    2024\n",
       " Name: NU_ANO, Length: 2500, dtype: int64,\n",
       " 2500    2024\n",
       " 2501    2024\n",
       " 2502    2024\n",
       " 2503    2024\n",
       " 2504    2024\n",
       "         ... \n",
       " 4995    2024\n",
       " 4996    2024\n",
       " 4997    2024\n",
       " 4998    2024\n",
       " 4999    2024\n",
       " Name: NU_ANO, Length: 2500, dtype: int64,\n",
       " 5000    2024\n",
       " 5001    2024\n",
       " 5002    2024\n",
       " 5003    2024\n",
       " 5004    2024\n",
       "         ... \n",
       " 7495    2024\n",
       " 7496    2024\n",
       " 7497    2024\n",
       " 7498    2024\n",
       " 7499    2024\n",
       " Name: NU_ANO, Length: 2500, dtype: int64,\n",
       " 7500    2024\n",
       " 7501    2024\n",
       " 7502    2024\n",
       " 7503    2024\n",
       " 7504    2024\n",
       "         ... \n",
       " 9995    2024\n",
       " 9996    2024\n",
       " 9997    2024\n",
       " 9998    2024\n",
       " 9999    2024\n",
       " Name: NU_ANO, Length: 2500, dtype: int64]"
      ]
     },
     "execution_count": 9,
     "metadata": {},
     "output_type": "execute_result"
    }
   ],
   "source": [
    "temp"
   ]
  },
  {
   "cell_type": "code",
   "execution_count": 10,
   "id": "8d0e8df6-fd96-497c-80d8-92d5eeec0876",
   "metadata": {},
   "outputs": [],
   "source": [
    "# Criando uma nova coluna\n",
    "df['Coluna_Temporaria'] = pd.concat(temp)"
   ]
  },
  {
   "cell_type": "code",
   "execution_count": 11,
   "id": "f725db40-4de1-4ebb-9a14-f8de7a2ce9b4",
   "metadata": {},
   "outputs": [
    {
     "data": {
      "text/plain": [
       "0       2024\n",
       "1       2024\n",
       "2       2024\n",
       "3       2024\n",
       "4       2024\n",
       "        ... \n",
       "9995    2024\n",
       "9996    2024\n",
       "9997    2024\n",
       "9998    2024\n",
       "9999    2024\n",
       "Name: Coluna_Temporaria, Length: 10000, dtype: int64"
      ]
     },
     "execution_count": 11,
     "metadata": {},
     "output_type": "execute_result"
    }
   ],
   "source": [
    "df['Coluna_Temporaria']"
   ]
  }
 ],
 "metadata": {
  "kernelspec": {
   "display_name": "Python 3 (ipykernel)",
   "language": "python",
   "name": "python3"
  },
  "language_info": {
   "codemirror_mode": {
    "name": "ipython",
    "version": 3
   },
   "file_extension": ".py",
   "mimetype": "text/x-python",
   "name": "python",
   "nbconvert_exporter": "python",
   "pygments_lexer": "ipython3",
   "version": "3.12.7"
  }
 },
 "nbformat": 4,
 "nbformat_minor": 5
}
